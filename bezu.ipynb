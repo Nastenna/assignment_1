{
 "cells": [
  {
   "cell_type": "code",
   "execution_count": 3,
   "id": "d245ef7d",
   "metadata": {},
   "outputs": [
    {
     "name": "stdout",
     "output_type": "stream",
     "text": [
      "степень полинома = 2\n",
      "тестовое значение = 2\n",
      "1\n",
      "i =  0 coefs =  1\n",
      "2\n",
      "i =  1 coefs =  2\n",
      "1\n",
      "i =  2 coefs =  1\n"
     ]
    }
   ],
   "source": [
    "## задаем конкретный полином с параметрами\n",
    "poly_grade = int(input(\"степень полинома = \"))\n",
    "\n",
    "\n",
    "#введем тестовое значение\n",
    "test_value = int(input(\"тестовое значение = \"))\n",
    "\n",
    "coef = []\n",
    "for i in range(poly_grade+1): \n",
    "    a = int(input())\n",
    "    coef.append(a)\n",
    "    print(\"i = \",i,\"coefs = \",coef[i])\n",
    "\n",
    "#введем тестовое значение\n",
    "\n",
    "##теорема Безу\n",
    "##задаем полином\n",
    "def Bezu(test_value):\n",
    "    test=int(test_value[1:])*(-1)\n",
    "    polynom = 0\n",
    "    for j in range(poly_grade+1): \n",
    "        polynom = polynom + (coef[j]*(test)**(poly_grade-j))\n",
    "        print(\"j\", j , \"polynom = \",polynom )\n",
    "    if (polynom != 0): \n",
    "        print(\"ERROR::message: incorrect value\")\n",
    "        return -1\n",
    "    else: \n",
    "        if(test > 0):\n",
    "            print(\"x-\",test)\n",
    "        else:\n",
    "            print(\"x+\",test)"
   ]
  },
  {
   "cell_type": "code",
   "execution_count": 5,
   "id": "f82f6003",
   "metadata": {},
   "outputs": [
    {
     "name": "stdout",
     "output_type": "stream",
     "text": [
      "j 0 polynom =  1\n",
      "j 1 polynom =  -1\n",
      "j 2 polynom =  0\n",
      "x+ -1\n"
     ]
    }
   ],
   "source": [
    "Bezu(\"x+1\")"
   ]
  },
  {
   "cell_type": "code",
   "execution_count": null,
   "id": "c879f7d0",
   "metadata": {},
   "outputs": [],
   "source": []
  }
 ],
 "metadata": {
  "kernelspec": {
   "display_name": "Python 3 (ipykernel)",
   "language": "python",
   "name": "python3"
  },
  "language_info": {
   "codemirror_mode": {
    "name": "ipython",
    "version": 3
   },
   "file_extension": ".py",
   "mimetype": "text/x-python",
   "name": "python",
   "nbconvert_exporter": "python",
   "pygments_lexer": "ipython3",
   "version": "3.10.0"
  }
 },
 "nbformat": 4,
 "nbformat_minor": 5
}
