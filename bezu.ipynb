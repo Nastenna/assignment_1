{
 "cells": [
  {
   "cell_type": "code",
   "execution_count": null,
   "id": "87079158",
   "metadata": {},
   "outputs": [],
   "source": [
    "## задаем конкретный полином с параметрами\n",
    "poly_grade = int(input(\"степень полинома = \"))\n",
    "\n",
    "\n",
    "#введем тестовое значение\n",
    "test_value = int(input(\"тестовое значение = \"))\n",
    "\n",
    "coef = []\n",
    "for i in range(poly_grade+1): \n",
    "    a = int(input())\n",
    "    coef.append(a)\n",
    "    print(\"i = \",i,\"coefs = \",coef[i])\n",
    "\n",
    "#введем тестовое значение\n",
    "\n",
    "##теорема Безу\n",
    "##задаем полином\n",
    "def Bezu(test_value):\n",
    "    polynom = 0\n",
    "    for j in range(poly_grade+1): \n",
    "        polynom = polynom + (coef[j]*(test_value)**(poly_grade-j))\n",
    "        print(\"j\", j , \"polynom = \",polynom )\n",
    "    if (polynom != 0): \n",
    "        print(\"ERROR::message: incorrect value\")\n",
    "        return -1\n",
    "    else: \n",
    "        if(test_value > 0):\n",
    "            print(\"x-\",test_value)\n",
    "        else:\n",
    "            print(\"x+\",test_value)"
   ]
  }
 ],
 "metadata": {
  "kernelspec": {
   "display_name": "Python 3 (ipykernel)",
   "language": "python",
   "name": "python3"
  },
  "language_info": {
   "codemirror_mode": {
    "name": "ipython",
    "version": 3
   },
   "file_extension": ".py",
   "mimetype": "text/x-python",
   "name": "python",
   "nbconvert_exporter": "python",
   "pygments_lexer": "ipython3",
   "version": "3.10.0"
  }
 },
 "nbformat": 4,
 "nbformat_minor": 5
}
